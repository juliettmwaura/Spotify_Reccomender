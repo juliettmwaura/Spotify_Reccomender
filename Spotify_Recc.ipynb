{
 "cells": [
  {
   "cell_type": "code",
   "execution_count": 79,
   "metadata": {},
   "outputs": [],
   "source": [
    "import pandas as pd"
   ]
  },
  {
   "cell_type": "code",
   "execution_count": 80,
   "metadata": {},
   "outputs": [
    {
     "data": {
      "text/html": [
       "<div>\n",
       "<style scoped>\n",
       "    .dataframe tbody tr th:only-of-type {\n",
       "        vertical-align: middle;\n",
       "    }\n",
       "\n",
       "    .dataframe tbody tr th {\n",
       "        vertical-align: top;\n",
       "    }\n",
       "\n",
       "    .dataframe thead th {\n",
       "        text-align: right;\n",
       "    }\n",
       "</style>\n",
       "<table border=\"1\" class=\"dataframe\">\n",
       "  <thead>\n",
       "    <tr style=\"text-align: right;\">\n",
       "      <th></th>\n",
       "      <th>artist</th>\n",
       "      <th>song</th>\n",
       "      <th>link</th>\n",
       "      <th>text</th>\n",
       "    </tr>\n",
       "  </thead>\n",
       "  <tbody>\n",
       "    <tr>\n",
       "      <th>0</th>\n",
       "      <td>ABBA</td>\n",
       "      <td>Ahe's My Kind Of Girl</td>\n",
       "      <td>/a/abba/ahes+my+kind+of+girl_20598417.html</td>\n",
       "      <td>Look at her face, it's a wonderful face  \\r\\nA...</td>\n",
       "    </tr>\n",
       "    <tr>\n",
       "      <th>1</th>\n",
       "      <td>ABBA</td>\n",
       "      <td>Andante, Andante</td>\n",
       "      <td>/a/abba/andante+andante_20002708.html</td>\n",
       "      <td>Take it easy with me, please  \\r\\nTouch me gen...</td>\n",
       "    </tr>\n",
       "    <tr>\n",
       "      <th>2</th>\n",
       "      <td>ABBA</td>\n",
       "      <td>As Good As New</td>\n",
       "      <td>/a/abba/as+good+as+new_20003033.html</td>\n",
       "      <td>I'll never know why I had to go  \\r\\nWhy I had...</td>\n",
       "    </tr>\n",
       "    <tr>\n",
       "      <th>3</th>\n",
       "      <td>ABBA</td>\n",
       "      <td>Bang</td>\n",
       "      <td>/a/abba/bang_20598415.html</td>\n",
       "      <td>Making somebody happy is a question of give an...</td>\n",
       "    </tr>\n",
       "    <tr>\n",
       "      <th>4</th>\n",
       "      <td>ABBA</td>\n",
       "      <td>Bang-A-Boomerang</td>\n",
       "      <td>/a/abba/bang+a+boomerang_20002668.html</td>\n",
       "      <td>Making somebody happy is a question of give an...</td>\n",
       "    </tr>\n",
       "  </tbody>\n",
       "</table>\n",
       "</div>"
      ],
      "text/plain": [
       "  artist                   song                                        link  \\\n",
       "0   ABBA  Ahe's My Kind Of Girl  /a/abba/ahes+my+kind+of+girl_20598417.html   \n",
       "1   ABBA       Andante, Andante       /a/abba/andante+andante_20002708.html   \n",
       "2   ABBA         As Good As New        /a/abba/as+good+as+new_20003033.html   \n",
       "3   ABBA                   Bang                  /a/abba/bang_20598415.html   \n",
       "4   ABBA       Bang-A-Boomerang      /a/abba/bang+a+boomerang_20002668.html   \n",
       "\n",
       "                                                text  \n",
       "0  Look at her face, it's a wonderful face  \\r\\nA...  \n",
       "1  Take it easy with me, please  \\r\\nTouch me gen...  \n",
       "2  I'll never know why I had to go  \\r\\nWhy I had...  \n",
       "3  Making somebody happy is a question of give an...  \n",
       "4  Making somebody happy is a question of give an...  "
      ]
     },
     "execution_count": 80,
     "metadata": {},
     "output_type": "execute_result"
    }
   ],
   "source": [
    "df = pd.read_csv('spotify_millsongdata.csv')\n",
    "df.head()"
   ]
  },
  {
   "cell_type": "code",
   "execution_count": 81,
   "metadata": {},
   "outputs": [
    {
     "data": {
      "text/plain": [
       "(57650, 4)"
      ]
     },
     "execution_count": 81,
     "metadata": {},
     "output_type": "execute_result"
    }
   ],
   "source": [
    "df.shape"
   ]
  },
  {
   "cell_type": "code",
   "execution_count": 82,
   "metadata": {},
   "outputs": [
    {
     "data": {
      "text/plain": [
       "artist    0\n",
       "song      0\n",
       "link      0\n",
       "text      0\n",
       "dtype: int64"
      ]
     },
     "execution_count": 82,
     "metadata": {},
     "output_type": "execute_result"
    }
   ],
   "source": [
    "#check for missing values\n",
    "df.isnull().sum()"
   ]
  },
  {
   "cell_type": "code",
   "execution_count": 83,
   "metadata": {},
   "outputs": [
    {
     "data": {
      "text/html": [
       "<div>\n",
       "<style scoped>\n",
       "    .dataframe tbody tr th:only-of-type {\n",
       "        vertical-align: middle;\n",
       "    }\n",
       "\n",
       "    .dataframe tbody tr th {\n",
       "        vertical-align: top;\n",
       "    }\n",
       "\n",
       "    .dataframe thead th {\n",
       "        text-align: right;\n",
       "    }\n",
       "</style>\n",
       "<table border=\"1\" class=\"dataframe\">\n",
       "  <thead>\n",
       "    <tr style=\"text-align: right;\">\n",
       "      <th></th>\n",
       "      <th>artist</th>\n",
       "      <th>song</th>\n",
       "      <th>text</th>\n",
       "    </tr>\n",
       "  </thead>\n",
       "  <tbody>\n",
       "    <tr>\n",
       "      <th>0</th>\n",
       "      <td>Ween</td>\n",
       "      <td>Mutilated Lips</td>\n",
       "      <td>I lick my brain in silence  \\r\\nRather squeeze...</td>\n",
       "    </tr>\n",
       "    <tr>\n",
       "      <th>1</th>\n",
       "      <td>Kiss</td>\n",
       "      <td>Do You Love Me</td>\n",
       "      <td>You really like my limousine  \\r\\nYou like the...</td>\n",
       "    </tr>\n",
       "    <tr>\n",
       "      <th>2</th>\n",
       "      <td>Hank Snow</td>\n",
       "      <td>I Keep Dreaming Of You All The Time</td>\n",
       "      <td>In my dreams an old friend came to see you  \\r...</td>\n",
       "    </tr>\n",
       "    <tr>\n",
       "      <th>3</th>\n",
       "      <td>Prince</td>\n",
       "      <td>Bambi</td>\n",
       "      <td>I knew from the start  \\r\\nThat I loved you wi...</td>\n",
       "    </tr>\n",
       "    <tr>\n",
       "      <th>4</th>\n",
       "      <td>Warren Zevon</td>\n",
       "      <td>Searching For A Heart</td>\n",
       "      <td>Darkness in the morning  \\r\\nShadows on the la...</td>\n",
       "    </tr>\n",
       "  </tbody>\n",
       "</table>\n",
       "</div>"
      ],
      "text/plain": [
       "         artist                                 song  \\\n",
       "0          Ween                       Mutilated Lips   \n",
       "1          Kiss                       Do You Love Me   \n",
       "2     Hank Snow  I Keep Dreaming Of You All The Time   \n",
       "3        Prince                                Bambi   \n",
       "4  Warren Zevon                Searching For A Heart   \n",
       "\n",
       "                                                text  \n",
       "0  I lick my brain in silence  \\r\\nRather squeeze...  \n",
       "1  You really like my limousine  \\r\\nYou like the...  \n",
       "2  In my dreams an old friend came to see you  \\r...  \n",
       "3  I knew from the start  \\r\\nThat I loved you wi...  \n",
       "4  Darkness in the morning  \\r\\nShadows on the la...  "
      ]
     },
     "execution_count": 83,
     "metadata": {},
     "output_type": "execute_result"
    }
   ],
   "source": [
    "df = df.sample(5000).drop('link', axis=1).reset_index(drop=True)\n",
    "df.head()"
   ]
  },
  {
   "cell_type": "code",
   "execution_count": 85,
   "metadata": {},
   "outputs": [
    {
     "data": {
      "text/html": [
       "<div>\n",
       "<style scoped>\n",
       "    .dataframe tbody tr th:only-of-type {\n",
       "        vertical-align: middle;\n",
       "    }\n",
       "\n",
       "    .dataframe tbody tr th {\n",
       "        vertical-align: top;\n",
       "    }\n",
       "\n",
       "    .dataframe thead th {\n",
       "        text-align: right;\n",
       "    }\n",
       "</style>\n",
       "<table border=\"1\" class=\"dataframe\">\n",
       "  <thead>\n",
       "    <tr style=\"text-align: right;\">\n",
       "      <th></th>\n",
       "      <th>artist</th>\n",
       "      <th>song</th>\n",
       "      <th>text</th>\n",
       "    </tr>\n",
       "  </thead>\n",
       "  <tbody>\n",
       "    <tr>\n",
       "      <th>4990</th>\n",
       "      <td>Howard Jones</td>\n",
       "      <td>Dream Into Action</td>\n",
       "      <td>Between every man there is a division  \\r\\nNob...</td>\n",
       "    </tr>\n",
       "    <tr>\n",
       "      <th>4991</th>\n",
       "      <td>Louis Armstrong</td>\n",
       "      <td>I Got Rhythm</td>\n",
       "      <td>I got rhythm....I got music....I got my gal  \\...</td>\n",
       "    </tr>\n",
       "    <tr>\n",
       "      <th>4992</th>\n",
       "      <td>Frank Sinatra</td>\n",
       "      <td>Change Partners</td>\n",
       "      <td>Must you dance every dance with the same fortu...</td>\n",
       "    </tr>\n",
       "    <tr>\n",
       "      <th>4993</th>\n",
       "      <td>Fleetwood Mac</td>\n",
       "      <td>Beautiful Child</td>\n",
       "      <td>Beautiful child  \\r\\nBeautiful child  \\r\\nYou ...</td>\n",
       "    </tr>\n",
       "    <tr>\n",
       "      <th>4994</th>\n",
       "      <td>Bread</td>\n",
       "      <td>Truckin'</td>\n",
       "      <td>Truckin' down the highway  \\r\\nGet outta my wa...</td>\n",
       "    </tr>\n",
       "    <tr>\n",
       "      <th>4995</th>\n",
       "      <td>Widespread Panic</td>\n",
       "      <td>Contentment Blues</td>\n",
       "      <td>I've got no hard lipped woman  \\r\\nNagging at ...</td>\n",
       "    </tr>\n",
       "    <tr>\n",
       "      <th>4996</th>\n",
       "      <td>Santana</td>\n",
       "      <td>Let Me Love You Tonight</td>\n",
       "      <td>It's midnight - And I don't want to see you le...</td>\n",
       "    </tr>\n",
       "    <tr>\n",
       "      <th>4997</th>\n",
       "      <td>Isley Brothers</td>\n",
       "      <td>Said Enough (Featuring Jill Scott)</td>\n",
       "      <td>[Jill:]  \\r\\nThere's so many things I want to ...</td>\n",
       "    </tr>\n",
       "    <tr>\n",
       "      <th>4998</th>\n",
       "      <td>Noa</td>\n",
       "      <td>She Went To The River</td>\n",
       "      <td>She went to the river,  \\r\\nShe never thought ...</td>\n",
       "    </tr>\n",
       "    <tr>\n",
       "      <th>4999</th>\n",
       "      <td>Judas Priest</td>\n",
       "      <td>Cheater</td>\n",
       "      <td>I got home late this evening, stumbled up the ...</td>\n",
       "    </tr>\n",
       "  </tbody>\n",
       "</table>\n",
       "</div>"
      ],
      "text/plain": [
       "                artist                                song  \\\n",
       "4990      Howard Jones                   Dream Into Action   \n",
       "4991   Louis Armstrong                        I Got Rhythm   \n",
       "4992     Frank Sinatra                     Change Partners   \n",
       "4993     Fleetwood Mac                     Beautiful Child   \n",
       "4994             Bread                            Truckin'   \n",
       "4995  Widespread Panic                   Contentment Blues   \n",
       "4996           Santana             Let Me Love You Tonight   \n",
       "4997    Isley Brothers  Said Enough (Featuring Jill Scott)   \n",
       "4998               Noa               She Went To The River   \n",
       "4999      Judas Priest                             Cheater   \n",
       "\n",
       "                                                   text  \n",
       "4990  Between every man there is a division  \\r\\nNob...  \n",
       "4991  I got rhythm....I got music....I got my gal  \\...  \n",
       "4992  Must you dance every dance with the same fortu...  \n",
       "4993  Beautiful child  \\r\\nBeautiful child  \\r\\nYou ...  \n",
       "4994  Truckin' down the highway  \\r\\nGet outta my wa...  \n",
       "4995  I've got no hard lipped woman  \\r\\nNagging at ...  \n",
       "4996  It's midnight - And I don't want to see you le...  \n",
       "4997  [Jill:]  \\r\\nThere's so many things I want to ...  \n",
       "4998  She went to the river,  \\r\\nShe never thought ...  \n",
       "4999  I got home late this evening, stumbled up the ...  "
      ]
     },
     "execution_count": 85,
     "metadata": {},
     "output_type": "execute_result"
    }
   ],
   "source": [
    "df.tail(10)"
   ]
  },
  {
   "cell_type": "markdown",
   "metadata": {},
   "source": [
    "## Text Preprocessing/Cleaning"
   ]
  },
  {
   "cell_type": "code",
   "execution_count": 86,
   "metadata": {},
   "outputs": [
    {
     "data": {
      "text/plain": [
       "\"I lick my brain in silence  \\r\\nRather squeeze my head instead  \\r\\nMidget man provoking violence  \\r\\nListen not to what I said  \\r\\n  \\r\\nI said please calm it down  \\r\\nEverything is turning brown  \\r\\n  \\r\\nMutilated lips give a kiss on the wrist  \\r\\nOf the worm like tips of tentacles expanding  \\r\\nIn my mind, I'm fine, accepting only fresh brine  \\r\\nYou can get another drop of this, yeah you wish  \\r\\n  \\r\\nMutilated lips give a kiss on the wrist  \\r\\nOf the worm like tips of tentacles expanding  \\r\\nIn my mind, I'm fine, accepting only fresh brine  \\r\\nYou can get another drop of this, yeah you wish  \\r\\n  \\r\\nLaughing lady living lover  \\r\\nOoo you sassy frassy lassie  \\r\\nFind me the skull of Haile Sellase, I  \\r\\nGive me shoes so I can tapsy  \\r\\nTap all over this big world  \\r\\nTake my hand you ugly girl  \\r\\n  \\r\\nMutilated lips give a kiss on the wrist  \\r\\nOf the worm like tips of tentacles expanding  \\r\\nIn my mind, I'm fine, accepting only fresh brine  \\r\\nYou can get another drop of this, yeah you wish\\r\\n\\r\\n\""
      ]
     },
     "execution_count": 86,
     "metadata": {},
     "output_type": "execute_result"
    }
   ],
   "source": [
    "df['text'][0]"
   ]
  },
  {
   "cell_type": "code",
   "execution_count": 87,
   "metadata": {},
   "outputs": [],
   "source": [
    "import re"
   ]
  },
  {
   "cell_type": "code",
   "execution_count": 88,
   "metadata": {},
   "outputs": [
    {
     "data": {
      "text/plain": [
       "\"i lick my brain in silence  \\r rather squeeze my head instead  \\r midget man provoking violence  \\r listen not to what i said  \\r   \\r i said please calm it down  \\r everything is turning brown  \\r   \\r mutilated lips give a kiss on the wrist  \\r of the worm like tips of tentacles expanding  \\r in my mind, i'm fine, accepting only fresh brine  \\r you can get another drop of this, yeah you wish  \\r   \\r mutilated lips give a kiss on the wrist  \\r of the worm like tips of tentacles expanding  \\r in my mind, i'm fine, accepting only fresh brine  \\r you can get another drop of this, yeah you wish  \\r   \\r laughing lady living lover  \\r ooo you sassy frassy lassie  \\r find me the skull of haile sellase, i  \\r give me shoes so i can tapsy  \\r tap all over this big world  \\r take my hand you ugly girl  \\r   \\r mutilated lips give a kiss on the wrist  \\r of the worm like tips of tentacles expanding  \\r in my mind, i'm fine, accepting only fresh brine  \\r you can get another drop of this, yeah you wish\\r \\r \""
      ]
     },
     "execution_count": 88,
     "metadata": {},
     "output_type": "execute_result"
    }
   ],
   "source": [
    "#change to lowercase,replace all the non-word charaters(not letter,figures or underscore)and the \\nto white spaces\n",
    "df['text'] = df['text'].str.lower().replace(r'^\\W\\s',' ').replace(r'\\n',' ', regex=True)\n",
    "df['text'][0]"
   ]
  },
  {
   "cell_type": "markdown",
   "metadata": {},
   "source": [
    "After regex,now we need to transform the data into tokens then later into tokens. Token techniques includes bag of words, back to back and tf-idf. But before that we need to remove the stop words.This is called Tokenization. Then we need to convert into one vector in a process called Vectorisation. Then calculate th distance of each vector. To reccomend is based on the distance. This instance is not for Eucladian distance but the Theta (Cosine Similarity)tag base\n",
    ". This will create a Content-Based Recommender. There are different types of recommender system such as the Collaborative Filtering which is based on the user ratings and there is the Population, based on majority. And another called by Hybrid which is both tag base and popularity base such as Youtube or Alibaba."
   ]
  },
  {
   "cell_type": "code",
   "execution_count": 89,
   "metadata": {},
   "outputs": [],
   "source": [
    "import nltk\n",
    "from nltk.stem.porter import PorterStemmer"
   ]
  },
  {
   "cell_type": "code",
   "execution_count": 90,
   "metadata": {},
   "outputs": [],
   "source": [
    "stemmer = PorterStemmer()"
   ]
  },
  {
   "cell_type": "code",
   "execution_count": 91,
   "metadata": {},
   "outputs": [],
   "source": [
    "def token(txt):\n",
    "    token = nltk.word_tokenize(txt)\n",
    "    a = [stemmer.stem(w) for w in token]\n",
    "    return \" \".join(a)"
   ]
  },
  {
   "cell_type": "code",
   "execution_count": 92,
   "metadata": {},
   "outputs": [
    {
     "data": {
      "text/plain": [
       "'you are beauti , beauti'"
      ]
     },
     "execution_count": 92,
     "metadata": {},
     "output_type": "execute_result"
    }
   ],
   "source": [
    "token(\"you are beautiful, beauty\")"
   ]
  },
  {
   "cell_type": "code",
   "execution_count": 93,
   "metadata": {},
   "outputs": [
    {
     "data": {
      "text/plain": [
       "0       i lick my brain in silenc rather squeez my hea...\n",
       "1       you realli like my limousin you like the way t...\n",
       "2       in my dream an old friend came to see you righ...\n",
       "3       i knew from the start that i love you with all...\n",
       "4       dark in the morn shadow on the land certain in...\n",
       "                              ...                        \n",
       "4995    i 've got no hard lip woman nag at who i shoul...\n",
       "4996    it 's midnight - and i do n't want to see you ...\n",
       "4997    [ jill : ] there 's so mani thing i want to sa...\n",
       "4998    she went to the river , she never thought twic...\n",
       "4999    i got home late thi even , stumbl up the stair...\n",
       "Name: text, Length: 5000, dtype: object"
      ]
     },
     "execution_count": 93,
     "metadata": {},
     "output_type": "execute_result"
    }
   ],
   "source": [
    "df['text'].apply(lambda x: token(x))"
   ]
  },
  {
   "cell_type": "code",
   "execution_count": 94,
   "metadata": {},
   "outputs": [],
   "source": [
    "from sklearn.feature_extraction.text import TfidfVectorizer\n",
    "from sklearn.metrics.pairwise import cosine_similarity"
   ]
  },
  {
   "cell_type": "code",
   "execution_count": 95,
   "metadata": {},
   "outputs": [],
   "source": [
    "tfid = TfidfVectorizer(analyzer = 'word', stop_words='english')"
   ]
  },
  {
   "cell_type": "code",
   "execution_count": 96,
   "metadata": {},
   "outputs": [],
   "source": [
    "matrix = tfid.fit_transform(df['text'])"
   ]
  },
  {
   "cell_type": "code",
   "execution_count": 97,
   "metadata": {},
   "outputs": [
    {
     "data": {
      "text/plain": [
       "array([[1.        , 0.00953706, 0.04499882, ..., 0.0472989 , 0.01231488,\n",
       "        0.00407474],\n",
       "       [0.00953706, 1.        , 0.10737958, ..., 0.15030841, 0.00624552,\n",
       "        0.00888095],\n",
       "       [0.04499882, 0.10737958, 1.        , ..., 0.14900553, 0.01992319,\n",
       "        0.01997761],\n",
       "       ...,\n",
       "       [0.0472989 , 0.15030841, 0.14900553, ..., 1.        , 0.0147451 ,\n",
       "        0.05712152],\n",
       "       [0.01231488, 0.00624552, 0.01992319, ..., 0.0147451 , 1.        ,\n",
       "        0.00511591],\n",
       "       [0.00407474, 0.00888095, 0.01997761, ..., 0.05712152, 0.00511591,\n",
       "        1.        ]])"
      ]
     },
     "execution_count": 97,
     "metadata": {},
     "output_type": "execute_result"
    }
   ],
   "source": [
    "cosine_similarity(matrix)"
   ]
  },
  {
   "cell_type": "code",
   "execution_count": 98,
   "metadata": {},
   "outputs": [
    {
     "data": {
      "text/plain": [
       "array([1.        , 0.00953706, 0.04499882, ..., 0.0472989 , 0.01231488,\n",
       "       0.00407474])"
      ]
     },
     "execution_count": 98,
     "metadata": {},
     "output_type": "execute_result"
    }
   ],
   "source": [
    "similar = cosine_similarity(matrix)\n",
    "similar[0]"
   ]
  },
  {
   "cell_type": "code",
   "execution_count": 104,
   "metadata": {},
   "outputs": [
    {
     "data": {
      "text/plain": [
       "4996"
      ]
     },
     "execution_count": 104,
     "metadata": {},
     "output_type": "execute_result"
    }
   ],
   "source": [
    "df[df['song']=='Let Me Love You Tonight'].index[0]"
   ]
  },
  {
   "cell_type": "markdown",
   "metadata": {},
   "source": [
    "### RECOMMENDER FUNCTION"
   ]
  },
  {
   "cell_type": "code",
   "execution_count": 108,
   "metadata": {},
   "outputs": [],
   "source": [
    "def recommender(song_name):\n",
    "    idx = df[df['song']==song_name].index[0]\n",
    "    distance = sorted(list(enumerate(similar[idx])), reverse=True, key=lambda x:x[1])\n",
    "    song = []\n",
    "    for s_id in distance[1:5]:\n",
    "        song.append(df.iloc[s_id[0]].song)\n",
    "    return song"
   ]
  },
  {
   "cell_type": "code",
   "execution_count": 109,
   "metadata": {},
   "outputs": [
    {
     "data": {
      "text/plain": [
       "['Again Tonight', \"Let's Go Tonight\", 'All Tore Up', 'Tonight']"
      ]
     },
     "execution_count": 109,
     "metadata": {},
     "output_type": "execute_result"
    }
   ],
   "source": [
    "recommender(\"Let Me Love You Tonight\")"
   ]
  },
  {
   "cell_type": "code",
   "execution_count": 111,
   "metadata": {},
   "outputs": [],
   "source": [
    "import pickle"
   ]
  },
  {
   "cell_type": "code",
   "execution_count": 112,
   "metadata": {},
   "outputs": [],
   "source": [
    "pickle.dump(similar, open(\"similarity\",\"wb\"))"
   ]
  },
  {
   "cell_type": "code",
   "execution_count": 113,
   "metadata": {},
   "outputs": [],
   "source": [
    "pickle.dump(df, open(\"df\",\"wb\"))"
   ]
  },
  {
   "cell_type": "code",
   "execution_count": null,
   "metadata": {},
   "outputs": [],
   "source": []
  }
 ],
 "metadata": {
  "kernelspec": {
   "display_name": "Python 3",
   "language": "python",
   "name": "python3"
  },
  "language_info": {
   "codemirror_mode": {
    "name": "ipython",
    "version": 3
   },
   "file_extension": ".py",
   "mimetype": "text/x-python",
   "name": "python",
   "nbconvert_exporter": "python",
   "pygments_lexer": "ipython3",
   "version": "3.8.5"
  }
 },
 "nbformat": 4,
 "nbformat_minor": 4
}
